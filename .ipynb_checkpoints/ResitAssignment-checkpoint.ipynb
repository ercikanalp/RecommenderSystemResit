{
 "cells": [
  {
   "cell_type": "markdown",
   "metadata": {
    "pycharm": {
     "name": "#%% md\n"
    }
   },
   "source": [
    "Your evaluation should answer the following research question: Are there any differences in the performances of a group recommender using an average satisfaction strategy related to the internal similarity of the group members’ preferences?\n",
    "\n",
    "\n",
    "To answer this research question you should perform an offline evaluation following the pipeline shown in lab 2 - you can find the slides of the pipeline on the Group Recommenders lecture on Canvas.\n",
    " \n",
    " \n",
    "Consider the following additional instructions:\n",
    "1.       You must use the dataset provided for tutorial 1 ( https://github.com/barnap/recsys-um-lab1-2022-public). It contains information about the evaluation of users for certain movies, and the subtitles of such movies.\n",
    "2.       Focus only on groups of size 4; you have to implement the generation of random, similar and dissimilar groups of size 4 from your dataset. The similarity between group members preferences should be computed using the Pearson Correlation Coefficient. Consider the following definitions:\n",
    "a.       Similar groups are defined as groups where the similarity between each pair of group members is higher than 0.4;\n",
    "b.       Dissimilar groups are defined as groups where the similarity between each pair of group members is lower than 0.2;\n",
    "3.       You must use a Hold-out validation strategy (80% for the training, 20% for the test set).\n",
    "4.       As shown in tutorial 1, you can train both a CF strategy and a CB strategy with the given datasets. Choose one of the two strategies proposed in tutorial 1, for providing individual recommendations for the group members. You can adapt the source code provided in the tutorial for this.\n",
    "5.       The group aggregation strategy to evaluate is “average satisfaction”.\n",
    "6.       Use a decoupled evaluation setting and the nDCG metric for your evaluation (consider recommendation lists of 10 items)."
   ]
  },
  {
   "cell_type": "markdown",
   "metadata": {
    "pycharm": {
     "name": "#%% md\n"
    }
   },
   "source": [
    "# Imports and reading the data."
   ]
  },
  {
   "cell_type": "code",
   "execution_count": 1,
   "metadata": {
    "pycharm": {
     "is_executing": true,
     "name": "#%%\n"
    }
   },
   "outputs": [],
   "source": [
    "import pandas as pd\n",
    "import numpy as np\n",
    "import matplotlib.pyplot as plt\n",
    "import seaborn as sns\n",
    "from scipy.stats import pearsonr\n",
    "import itertools\n",
    "import random\n",
    "\n",
    "ratings = pd.read_csv('preprocessed_dataset/ratings.csv')\n",
    "movies = pd.read_csv('preprocessed_dataset/movies.csv')"
   ]
  },
  {
   "cell_type": "markdown",
   "metadata": {},
   "source": [
    "# Random Group Generation Method from Lab 2"
   ]
  },
  {
   "cell_type": "code",
   "execution_count": 2,
   "metadata": {},
   "outputs": [
    {
     "name": "stdout",
     "output_type": "stream",
     "text": [
      "[73, 308, 139, 50]\n"
     ]
    }
   ],
   "source": [
    "def generateGroups(user_set):\n",
    "    random_group = random.sample(user_set, 4)\n",
    "    return random_group;\n",
    "\n",
    "# Generating the random group\n",
    "random_group = generateGroups(list(ratings['user']))\n",
    "print(random_group)\n",
    "\n"
   ]
  },
  {
   "cell_type": "markdown",
   "metadata": {},
   "source": [
    " # Pearson Correlation code from Lab 2"
   ]
  },
  {
   "cell_type": "code",
   "execution_count": 3,
   "metadata": {},
   "outputs": [
    {
     "data": {
      "text/plain": [
       "Text(0.5, 0, \"Pearson's Correlation Coeficient\")"
      ]
     },
     "execution_count": 3,
     "metadata": {},
     "output_type": "execute_result"
    },
    {
     "data": {
      "image/png": "[encoded data removed]",
      "text/plain": [
       "<Figure size 640x480 with 1 Axes>"
      ]
     },
     "metadata": {},
     "output_type": "display_data"
    }
   ],
   "source": [
    "import numpy as np\n",
    "import matplotlib.pyplot as plt\n",
    "user_matrix = ratings.pivot_table(columns='item', index='user', values='rating')\n",
    "\n",
    "user_id_set = set(ratings['user'])\n",
    "user_id_indexes = user_matrix.index.values\n",
    "user_matrix = user_matrix.fillna(0)\n",
    "numpy_array = user_matrix.to_numpy()\n",
    "sim_matrix = np.corrcoef(numpy_array)\n",
    "\n",
    "%matplotlib inline\n",
    "plt.hist(sim_matrix.flatten())\n",
    "plt.yscale(\"log\")\n",
    "plt.xlabel(\"Pearson's Correlation Coeficient\")"
   ]
  },
  {
   "cell_type": "markdown",
   "metadata": {},
   "source": [
    "# Similar/Dissimilar group generation code, inspired from Lab 2"
   ]
  },
  {
   "cell_type": "code",
   "execution_count": 4,
   "metadata": {},
   "outputs": [
    {
     "name": "stdout",
     "output_type": "stream",
     "text": [
      "Similar Group: [499, 513, 251, 4]\n",
      "Dissimilar Group: [441, 1, 2, 3]\n"
     ]
    }
   ],
   "source": [
    "@staticmethod\n",
    "def select_user_for_group(group, sim_matrix, user_id_indexes, similarity_threshold, is_similar):\n",
    "    candidate_ids = set(user_id_indexes) - set(group)\n",
    "\n",
    "    for candidate in candidate_ids:\n",
    "        candidate_index = np.where(user_id_indexes == candidate)[0][0]\n",
    "        is_candidate_valid = True\n",
    "\n",
    "        for member in group:\n",
    "            member_index = np.where(user_id_indexes == member)[0][0]\n",
    "            similarity = sim_matrix[member_index, candidate_index]\n",
    "\n",
    "            if is_similar and similarity <= similarity_threshold:\n",
    "                is_candidate_valid = False\n",
    "                break\n",
    "            elif not is_similar and similarity >= similarity_threshold:\n",
    "                is_candidate_valid = False\n",
    "                break\n",
    "\n",
    "        if is_candidate_valid:\n",
    "            return candidate\n",
    "\n",
    "    return None\n",
    "\n",
    "@staticmethod\n",
    "def generate_group(user_id_indexes, sim_matrix, group_size=4, similarity_threshold=0.4, is_similar=True):\n",
    "    attempts = 0\n",
    "    max_attempts = 10  \n",
    "    threshold_decrement = 0.05  \n",
    "\n",
    "    while attempts < max_attempts:\n",
    "        group = [random.choice(user_id_indexes)]\n",
    "        current_threshold = similarity_threshold\n",
    "\n",
    "        while len(group) < group_size:\n",
    "            new_member = select_user_for_group(group, sim_matrix, user_id_indexes, current_threshold, is_similar)\n",
    "            if new_member is None:\n",
    "                current_threshold -= threshold_decrement\n",
    "                if current_threshold < 0:\n",
    "                    break  \n",
    "                continue  \n",
    "            group.append(new_member)\n",
    "\n",
    "        if len(group) == group_size:\n",
    "            return group  \n",
    "\n",
    "        attempts += 1\n",
    "\n",
    "    return group \n",
    "\n",
    "# Generate similar and dissimilar groups\n",
    "similar_group = generate_group(user_id_indexes, sim_matrix, is_similar=True)\n",
    "dissimilar_group = generate_group(user_id_indexes, sim_matrix, similarity_threshold=0.2, is_similar=False)\n",
    "\n",
    "# Display the groups\n",
    "print(\"Similar Group:\", similar_group)\n",
    "print(\"Dissimilar Group:\", dissimilar_group)"
   ]
  },
  {
   "cell_type": "markdown",
   "metadata": {},
   "source": [
    "# Hold-out Method"
   ]
  },
  {
   "cell_type": "code",
   "execution_count": 5,
   "metadata": {},
   "outputs": [],
   "source": [
    "from sklearn.model_selection import train_test_split\n",
    "\n",
    "train_set, test_set = train_test_split(ratings, test_size=0.2, random_state=42)"
   ]
  },
  {
   "cell_type": "markdown",
   "metadata": {},
   "source": [
    "# Collaborative Filtering"
   ]
  },
  {
   "cell_type": "code",
   "execution_count": 6,
   "metadata": {
    "pycharm": {
     "name": "#%%\n"
    }
   },
   "outputs": [
    {
     "name": "stderr",
     "output_type": "stream",
     "text": [
      "BLAS using multiple threads - can cause oversubscription\n",
      "found 1 potential runtime problems - see https://boi.st/lkpy-perf\n"
     ]
    },
    {
     "data": {
      "text/html": [
       "<div>\n",
       "<style scoped>\n",
       "    .dataframe tbody tr th:only-of-type {\n",
       "        vertical-align: middle;\n",
       "    }\n",
       "\n",
       "    .dataframe tbody tr th {\n",
       "        vertical-align: top;\n",
       "    }\n",
       "\n",
       "    .dataframe thead th {\n",
       "        text-align: right;\n",
       "    }\n",
       "</style>\n",
       "<table border=\"1\" class=\"dataframe\">\n",
       "  <thead>\n",
       "    <tr style=\"text-align: right;\">\n",
       "      <th></th>\n",
       "      <th>item</th>\n",
       "      <th>score</th>\n",
       "      <th>title</th>\n",
       "      <th>user_id</th>\n",
       "    </tr>\n",
       "  </thead>\n",
       "  <tbody>\n",
       "    <tr>\n",
       "      <th>0</th>\n",
       "      <td>177593</td>\n",
       "      <td>6.110518</td>\n",
       "      <td>three billboards outside ebbing, missouri</td>\n",
       "      <td>224</td>\n",
       "    </tr>\n",
       "    <tr>\n",
       "      <th>1</th>\n",
       "      <td>3451</td>\n",
       "      <td>6.073852</td>\n",
       "      <td>guess who's coming to dinner</td>\n",
       "      <td>224</td>\n",
       "    </tr>\n",
       "    <tr>\n",
       "      <th>2</th>\n",
       "      <td>28</td>\n",
       "      <td>5.905710</td>\n",
       "      <td>persuasion</td>\n",
       "      <td>224</td>\n",
       "    </tr>\n",
       "    <tr>\n",
       "      <th>3</th>\n",
       "      <td>5747</td>\n",
       "      <td>5.868714</td>\n",
       "      <td>gallipoli</td>\n",
       "      <td>224</td>\n",
       "    </tr>\n",
       "    <tr>\n",
       "      <th>4</th>\n",
       "      <td>51931</td>\n",
       "      <td>5.829592</td>\n",
       "      <td>reign over me</td>\n",
       "      <td>224</td>\n",
       "    </tr>\n",
       "    <tr>\n",
       "      <th>...</th>\n",
       "      <td>...</td>\n",
       "      <td>...</td>\n",
       "      <td>...</td>\n",
       "      <td>...</td>\n",
       "    </tr>\n",
       "    <tr>\n",
       "      <th>0</th>\n",
       "      <td>3061</td>\n",
       "      <td>5.812962</td>\n",
       "      <td>holiday inn</td>\n",
       "      <td>568</td>\n",
       "    </tr>\n",
       "    <tr>\n",
       "      <th>1</th>\n",
       "      <td>1411</td>\n",
       "      <td>5.559504</td>\n",
       "      <td>hamlet</td>\n",
       "      <td>568</td>\n",
       "    </tr>\n",
       "    <tr>\n",
       "      <th>2</th>\n",
       "      <td>177593</td>\n",
       "      <td>5.388765</td>\n",
       "      <td>three billboards outside ebbing, missouri</td>\n",
       "      <td>568</td>\n",
       "    </tr>\n",
       "    <tr>\n",
       "      <th>3</th>\n",
       "      <td>56715</td>\n",
       "      <td>5.320595</td>\n",
       "      <td>wristcutters: a love story</td>\n",
       "      <td>568</td>\n",
       "    </tr>\n",
       "    <tr>\n",
       "      <th>4</th>\n",
       "      <td>85</td>\n",
       "      <td>5.262661</td>\n",
       "      <td>angels and insects</td>\n",
       "      <td>568</td>\n",
       "    </tr>\n",
       "  </tbody>\n",
       "</table>\n",
       "<p>3025 rows × 4 columns</p>\n",
       "</div>"
      ],
      "text/plain": [
       "      item     score                                      title  user_id\n",
       "0   177593  6.110518  three billboards outside ebbing, missouri      224\n",
       "1     3451  6.073852               guess who's coming to dinner      224\n",
       "2       28  5.905710                                 persuasion      224\n",
       "3     5747  5.868714                                  gallipoli      224\n",
       "4    51931  5.829592                              reign over me      224\n",
       "..     ...       ...                                        ...      ...\n",
       "0     3061  5.812962                                holiday inn      568\n",
       "1     1411  5.559504                                     hamlet      568\n",
       "2   177593  5.388765  three billboards outside ebbing, missouri      568\n",
       "3    56715  5.320595                 wristcutters: a love story      568\n",
       "4       85  5.262661                         angels and insects      568\n",
       "\n",
       "[3025 rows x 4 columns]"
      ]
     },
     "metadata": {},
     "output_type": "display_data"
    }
   ],
   "source": [
    "from lenskit.algorithms import Recommender\n",
    "from lenskit.algorithms.user_knn import UserUser\n",
    "from sklearn.model_selection import train_test_split\n",
    "import pandas as pd\n",
    "\n",
    "\n",
    "# Collaborative user algorithm UserUser setup\n",
    "num_recs = 5  # Number of recommendations to generate\n",
    "user_user = UserUser(15, min_nbrs=3)  # Minimum (3) and maximum (15) number of neighbors to consider\n",
    "recsys = Recommender.adapt(user_user)\n",
    "recsys.fit(train_set)  # Fit the model using only the training set\n",
    "\n",
    "# Generate individual user recommendations for users in the test set\n",
    "def generate_individual_recommendations(recsys, test_set, num_recs):\n",
    "    all_users_recommendations = []\n",
    "\n",
    "    for selected_user in test_set['user'].unique():\n",
    "        selected_movies_useruser = recsys.recommend(selected_user, num_recs)\n",
    "        # Assuming 'movies' is the DataFrame containing movie titles\n",
    "        selected_movies_useruser = selected_movies_useruser.join(movies.set_index('item')['title'], on='item')\n",
    "        selected_movies_useruser['user_id'] = selected_user\n",
    "        all_users_recommendations.append(selected_movies_useruser)\n",
    "\n",
    "    all_recommendations = pd.concat(all_users_recommendations)\n",
    "    return all_recommendations\n",
    "\n",
    "individual_recommendations = generate_individual_recommendations(recsys, test_set, num_recs)\n",
    "display(individual_recommendations)\n"
   ]
  },
  {
   "cell_type": "markdown",
   "metadata": {
    "pycharm": {
     "name": "#%% md\n"
    }
   },
   "source": [
    "# Aggregation Strategy For Similar and Dissimilar Groups"
   ]
  },
  {
   "cell_type": "code",
   "execution_count": 7,
   "metadata": {},
   "outputs": [],
   "source": [
    "def aggregate_group_recommendations(group, individual_recommendations, movies_df):\n",
    "    if not group:\n",
    "        return pd.DataFrame(columns=['item', 'score', 'title'])  \n",
    "\n",
    "    group_recommendations = pd.concat(\n",
    "        [individual_recommendations[individual_recommendations['user_id'] == user] for user in group]\n",
    "    )\n",
    "\n",
    "    if group_recommendations.empty:\n",
    "        return pd.DataFrame(columns=['item', 'score', 'title'])  \n",
    "\n",
    "    # Aggregate and calculate the mean score for each item recommended to any group member\n",
    "    average_group_recommendations = (\n",
    "        group_recommendations.groupby('item')\n",
    "        .agg({'score': 'mean'})\n",
    "        .reset_index()\n",
    "        .sort_values(by='score', ascending=False)  \n",
    "    )\n",
    "\n",
    "    # Merge with movie titles\n",
    "    average_group_recommendations_with_titles = average_group_recommendations.merge(\n",
    "        movies_df[['item', 'title']], on='item', how='left'\n",
    "    )\n",
    "\n",
    "    return average_group_recommendations_with_titles\n",
    "\n",
    "group_recommendations_similar = aggregate_group_recommendations(similar_group, individual_recommendations, movies)\n",
    "group_recommendations_dissimilar = aggregate_group_recommendations(dissimilar_group, individual_recommendations, movies)\n",
    "group_recommendations_random = aggregate_group_recommendations(random_group, individual_recommendations, movies)\n"
   ]
  },
  {
   "cell_type": "markdown",
   "metadata": {},
   "source": [
    "# Display the Group Recommendations"
   ]
  },
  {
   "cell_type": "code",
   "execution_count": 8,
   "metadata": {},
   "outputs": [
    {
     "name": "stdout",
     "output_type": "stream",
     "text": [
      "Top 10 Recommendations for Similar Group:\n"
     ]
    },
    {
     "data": {
      "text/html": [
       "<div>\n",
       "<style scoped>\n",
       "    .dataframe tbody tr th:only-of-type {\n",
       "        vertical-align: middle;\n",
       "    }\n",
       "\n",
       "    .dataframe tbody tr th {\n",
       "        vertical-align: top;\n",
       "    }\n",
       "\n",
       "    .dataframe thead th {\n",
       "        text-align: right;\n",
       "    }\n",
       "</style>\n",
       "<table border=\"1\" class=\"dataframe\">\n",
       "  <thead>\n",
       "    <tr style=\"text-align: right;\">\n",
       "      <th></th>\n",
       "      <th>title</th>\n",
       "      <th>score</th>\n",
       "    </tr>\n",
       "  </thead>\n",
       "  <tbody>\n",
       "    <tr>\n",
       "      <th>0</th>\n",
       "      <td>THREE BILLBOARDS OUTSIDE EBBING, MISSOURI</td>\n",
       "      <td>6.195684</td>\n",
       "    </tr>\n",
       "    <tr>\n",
       "      <th>1</th>\n",
       "      <td>BEFORE NIGHT FALLS</td>\n",
       "      <td>6.178698</td>\n",
       "    </tr>\n",
       "    <tr>\n",
       "      <th>2</th>\n",
       "      <td>PERSUASION</td>\n",
       "      <td>6.163346</td>\n",
       "    </tr>\n",
       "    <tr>\n",
       "      <th>3</th>\n",
       "      <td>FOUR LIONS</td>\n",
       "      <td>6.096264</td>\n",
       "    </tr>\n",
       "    <tr>\n",
       "      <th>4</th>\n",
       "      <td>BLENDED</td>\n",
       "      <td>6.064700</td>\n",
       "    </tr>\n",
       "    <tr>\n",
       "      <th>5</th>\n",
       "      <td>ANGELS AND INSECTS</td>\n",
       "      <td>5.722540</td>\n",
       "    </tr>\n",
       "    <tr>\n",
       "      <th>6</th>\n",
       "      <td>REIGN OVER ME</td>\n",
       "      <td>5.670907</td>\n",
       "    </tr>\n",
       "    <tr>\n",
       "      <th>7</th>\n",
       "      <td>DEFENDING YOUR LIFE</td>\n",
       "      <td>5.669115</td>\n",
       "    </tr>\n",
       "    <tr>\n",
       "      <th>8</th>\n",
       "      <td>MR. BROOKS</td>\n",
       "      <td>5.618108</td>\n",
       "    </tr>\n",
       "    <tr>\n",
       "      <th>9</th>\n",
       "      <td>FRACTURE</td>\n",
       "      <td>5.587222</td>\n",
       "    </tr>\n",
       "  </tbody>\n",
       "</table>\n",
       "</div>"
      ],
      "text/plain": [
       "                                       title     score\n",
       "0  THREE BILLBOARDS OUTSIDE EBBING, MISSOURI  6.195684\n",
       "1                         BEFORE NIGHT FALLS  6.178698\n",
       "2                                 PERSUASION  6.163346\n",
       "3                                 FOUR LIONS  6.096264\n",
       "4                                    BLENDED  6.064700\n",
       "5                         ANGELS AND INSECTS  5.722540\n",
       "6                              REIGN OVER ME  5.670907\n",
       "7                        DEFENDING YOUR LIFE  5.669115\n",
       "8                                 MR. BROOKS  5.618108\n",
       "9                                   FRACTURE  5.587222"
      ]
     },
     "metadata": {},
     "output_type": "display_data"
    },
    {
     "name": "stdout",
     "output_type": "stream",
     "text": [
      "Top 10 Recommendations for Dissimilar Group:\n"
     ]
    },
    {
     "data": {
      "text/html": [
       "<div>\n",
       "<style scoped>\n",
       "    .dataframe tbody tr th:only-of-type {\n",
       "        vertical-align: middle;\n",
       "    }\n",
       "\n",
       "    .dataframe tbody tr th {\n",
       "        vertical-align: top;\n",
       "    }\n",
       "\n",
       "    .dataframe thead th {\n",
       "        text-align: right;\n",
       "    }\n",
       "</style>\n",
       "<table border=\"1\" class=\"dataframe\">\n",
       "  <thead>\n",
       "    <tr style=\"text-align: right;\">\n",
       "      <th></th>\n",
       "      <th>title</th>\n",
       "      <th>score</th>\n",
       "    </tr>\n",
       "  </thead>\n",
       "  <tbody>\n",
       "    <tr>\n",
       "      <th>0</th>\n",
       "      <td>WATERSHIP DOWN</td>\n",
       "      <td>6.047452</td>\n",
       "    </tr>\n",
       "    <tr>\n",
       "      <th>1</th>\n",
       "      <td>SULLIVAN'S TRAVELS</td>\n",
       "      <td>5.995424</td>\n",
       "    </tr>\n",
       "    <tr>\n",
       "      <th>2</th>\n",
       "      <td>WRISTCUTTERS: A LOVE STORY</td>\n",
       "      <td>5.990230</td>\n",
       "    </tr>\n",
       "    <tr>\n",
       "      <th>3</th>\n",
       "      <td>MEET ME IN ST. LOUIS</td>\n",
       "      <td>5.959287</td>\n",
       "    </tr>\n",
       "    <tr>\n",
       "      <th>4</th>\n",
       "      <td>TRUE GRIT</td>\n",
       "      <td>5.904689</td>\n",
       "    </tr>\n",
       "    <tr>\n",
       "      <th>5</th>\n",
       "      <td>SUBMARINE</td>\n",
       "      <td>5.900817</td>\n",
       "    </tr>\n",
       "    <tr>\n",
       "      <th>6</th>\n",
       "      <td>YOJIMBO</td>\n",
       "      <td>5.855963</td>\n",
       "    </tr>\n",
       "    <tr>\n",
       "      <th>7</th>\n",
       "      <td>HOLIDAY INN</td>\n",
       "      <td>5.783644</td>\n",
       "    </tr>\n",
       "    <tr>\n",
       "      <th>8</th>\n",
       "      <td>BEFORE NIGHT FALLS</td>\n",
       "      <td>5.767407</td>\n",
       "    </tr>\n",
       "    <tr>\n",
       "      <th>9</th>\n",
       "      <td>NEBRASKA</td>\n",
       "      <td>5.751602</td>\n",
       "    </tr>\n",
       "  </tbody>\n",
       "</table>\n",
       "</div>"
      ],
      "text/plain": [
       "                        title     score\n",
       "0              WATERSHIP DOWN  6.047452\n",
       "1          SULLIVAN'S TRAVELS  5.995424\n",
       "2  WRISTCUTTERS: A LOVE STORY  5.990230\n",
       "3        MEET ME IN ST. LOUIS  5.959287\n",
       "4                   TRUE GRIT  5.904689\n",
       "5                   SUBMARINE  5.900817\n",
       "6                     YOJIMBO  5.855963\n",
       "7                 HOLIDAY INN  5.783644\n",
       "8          BEFORE NIGHT FALLS  5.767407\n",
       "9                    NEBRASKA  5.751602"
      ]
     },
     "metadata": {},
     "output_type": "display_data"
    },
    {
     "name": "stdout",
     "output_type": "stream",
     "text": [
      "Top 10 Recommendations for Random Group:\n"
     ]
    },
    {
     "data": {
      "text/html": [
       "<div>\n",
       "<style scoped>\n",
       "    .dataframe tbody tr th:only-of-type {\n",
       "        vertical-align: middle;\n",
       "    }\n",
       "\n",
       "    .dataframe tbody tr th {\n",
       "        vertical-align: top;\n",
       "    }\n",
       "\n",
       "    .dataframe thead th {\n",
       "        text-align: right;\n",
       "    }\n",
       "</style>\n",
       "<table border=\"1\" class=\"dataframe\">\n",
       "  <thead>\n",
       "    <tr style=\"text-align: right;\">\n",
       "      <th></th>\n",
       "      <th>title</th>\n",
       "      <th>score</th>\n",
       "    </tr>\n",
       "  </thead>\n",
       "  <tbody>\n",
       "    <tr>\n",
       "      <th>0</th>\n",
       "      <td>YOJIMBO</td>\n",
       "      <td>5.469860</td>\n",
       "    </tr>\n",
       "    <tr>\n",
       "      <th>1</th>\n",
       "      <td>DEFENDING YOUR LIFE</td>\n",
       "      <td>5.131397</td>\n",
       "    </tr>\n",
       "    <tr>\n",
       "      <th>2</th>\n",
       "      <td>THE LAIR OF THE WHITE WORM</td>\n",
       "      <td>5.067765</td>\n",
       "    </tr>\n",
       "    <tr>\n",
       "      <th>3</th>\n",
       "      <td>GALLIPOLI</td>\n",
       "      <td>4.612820</td>\n",
       "    </tr>\n",
       "    <tr>\n",
       "      <th>4</th>\n",
       "      <td>TRUE GRIT</td>\n",
       "      <td>4.357923</td>\n",
       "    </tr>\n",
       "    <tr>\n",
       "      <th>5</th>\n",
       "      <td>BEFORE NIGHT FALLS</td>\n",
       "      <td>4.264623</td>\n",
       "    </tr>\n",
       "    <tr>\n",
       "      <th>6</th>\n",
       "      <td>WRISTCUTTERS: A LOVE STORY</td>\n",
       "      <td>4.136915</td>\n",
       "    </tr>\n",
       "    <tr>\n",
       "      <th>7</th>\n",
       "      <td>SUBMARINE</td>\n",
       "      <td>4.115605</td>\n",
       "    </tr>\n",
       "    <tr>\n",
       "      <th>8</th>\n",
       "      <td>ROOM</td>\n",
       "      <td>4.070904</td>\n",
       "    </tr>\n",
       "    <tr>\n",
       "      <th>9</th>\n",
       "      <td>HAMLET</td>\n",
       "      <td>4.048673</td>\n",
       "    </tr>\n",
       "  </tbody>\n",
       "</table>\n",
       "</div>"
      ],
      "text/plain": [
       "                        title     score\n",
       "0                     YOJIMBO  5.469860\n",
       "1         DEFENDING YOUR LIFE  5.131397\n",
       "2  THE LAIR OF THE WHITE WORM  5.067765\n",
       "3                   GALLIPOLI  4.612820\n",
       "4                   TRUE GRIT  4.357923\n",
       "5          BEFORE NIGHT FALLS  4.264623\n",
       "6  WRISTCUTTERS: A LOVE STORY  4.136915\n",
       "7                   SUBMARINE  4.115605\n",
       "8                        ROOM  4.070904\n",
       "9                      HAMLET  4.048673"
      ]
     },
     "metadata": {},
     "output_type": "display_data"
    }
   ],
   "source": [
    "def display_group_recommendations(group_recommendations, group_type, top_n=10):\n",
    "    \"\"\"\n",
    "    Displays the top N recommendations for a group as a table, including movie titles in full capital letters.\n",
    "    :param group_recommendations: DataFrame with aggregated group recommendations and titles.\n",
    "    :param group_type: String, either 'Similar', 'Dissimilar', or 'Random' to indicate the group type.\n",
    "    :param top_n: Integer, number of top recommendations to display.\n",
    "    \"\"\"\n",
    "    # Select top N recommendations and create a copy to avoid the warning\n",
    "    top_recommendations = group_recommendations.head(top_n).copy()\n",
    "\n",
    "    # Convert titles to uppercase\n",
    "    top_recommendations['title'] = top_recommendations['title'].str.upper()\n",
    "\n",
    "    # Displaying as a table\n",
    "    print(f\"Top {top_n} Recommendations for {group_type} Group:\")\n",
    "    display(top_recommendations[['title', 'score']])\n",
    "\n",
    "# Display the results\n",
    "display_group_recommendations(group_recommendations_similar, \"Similar\")\n",
    "display_group_recommendations(group_recommendations_dissimilar, \"Dissimilar\")\n",
    "display_group_recommendations(group_recommendations_random, \"Random\")\n"
   ]
  },
  {
   "cell_type": "markdown",
   "metadata": {},
   "source": [
    "# nDCG Implementation"
   ]
  },
  {
   "cell_type": "code",
   "execution_count": 9,
   "metadata": {},
   "outputs": [
    {
     "name": "stdout",
     "output_type": "stream",
     "text": [
      "Average nDCG Score for Random Groups: 0.8367503519486057\n",
      "Average nDCG Score for Similar Groups: 0.9456488576857731\n",
      "Average nDCG Score for Dissimilar Groups: 0.9243075210338149\n"
     ]
    }
   ],
   "source": [
    "from sklearn.metrics import ndcg_score\n",
    "def calculate_ndcg(actual_ratings, predicted_ratings, k=10):\n",
    "    actual_ratings = actual_ratings[:k]\n",
    "    predicted_ratings = predicted_ratings[:k]\n",
    "    return ndcg_score([actual_ratings], [predicted_ratings], k=k)\n",
    "def get_actual_ratings(group, ratings_data):\n",
    "    group_ratings = ratings_data[ratings_data['user'].isin(group)]\n",
    "    return group_ratings['rating'].tolist()\n",
    "\n",
    "def get_predicted_ratings(group, predicted_data):\n",
    "    group_ratings = predicted_data[predicted_data['user_id'].isin(group)]\n",
    "    return group_ratings['score'].tolist()\n",
    "\n",
    "def calculate_average_ndcg(groups, actual_ratings_data, predicted_ratings_data):\n",
    "    ndcg_scores = []\n",
    "    for group in groups:\n",
    "        actual_ratings_group = get_actual_ratings(group, actual_ratings_data)\n",
    "        predicted_ratings_group = get_predicted_ratings(group, predicted_ratings_data)\n",
    "\n",
    "        ndcg_value = calculate_ndcg(actual_ratings_group, predicted_ratings_group, k=10)\n",
    "        ndcg_scores.append(ndcg_value)\n",
    "\n",
    "    average_ndcg = sum(ndcg_scores) / len(ndcg_scores) if ndcg_scores else 0\n",
    "    return average_ndcg\n",
    "\n",
    "average_ndcg_random = calculate_average_ndcg([random_group], test_set, individual_recommendations)\n",
    "average_ndcg_similar = calculate_average_ndcg([similar_group], test_set, individual_recommendations)\n",
    "average_ndcg_dissimilar = calculate_average_ndcg([dissimilar_group], test_set, individual_recommendations)\n",
    "\n",
    "# Display the results\n",
    "print(\"Average nDCG Score for Random Groups:\", average_ndcg_random)\n",
    "print(\"Average nDCG Score for Similar Groups:\", average_ndcg_similar)\n",
    "print(\"Average nDCG Score for Dissimilar Groups:\", average_ndcg_dissimilar)\n",
    "\n"
   ]
  },
  {
   "cell_type": "markdown",
   "metadata": {},
   "source": [
    "# Experiments\n",
    "**After 10 Runs of the recommender system, the nDCG scores for each group are listed below:**\n",
    "\n",
    "**Run 1:**<br>\n",
    "Average nDCG Score for Random Groups: 0.9668350374971564<br>\n",
    "Average nDCG Score for Similar Groups: 0.9396491892135846<br>\n",
    "Average nDCG Score for Dissimilar Groups: 0.8870777443164242<br>\n",
    "\n",
    "**Run 2:**<br>\n",
    "Average nDCG Score for Random Groups: 0.9234392999459189<br>\n",
    "Average nDCG Score for Similar Groups: 0.9060417487675342<br>\n",
    "Average nDCG Score for Dissimilar Groups: 0.9449342206963137<br>\n",
    "\n",
    "**Run 3:**<br>\n",
    "Average nDCG Score for Random Groups: 0.9121927222899645<br>\n",
    "Average nDCG Score for Similar Groups: 0.8040578118647784<br>\n",
    "Average nDCG Score for Dissimilar Groups: 0.9281992935893307<br>\n",
    "\n",
    "**Run 4:**<br>\n",
    "Average nDCG Score for Random Groups: 0.9041678538181952<br>\n",
    "Average nDCG Score for Similar Groups: 0.8195122810804331<br>\n",
    "Average nDCG Score for Dissimilar Groups: 0.8937551879802926<br>\n",
    "\n",
    "**Run 5:**<br>\n",
    "Average nDCG Score for Random Groups: 0.9540065564743159<br>\n",
    "Average nDCG Score for Similar Groups: 0.9627422573560348<br>\n",
    "Average nDCG Score for Dissimilar Groups: 0.9532456919301484<br>\n",
    "\n",
    "**Run 6:**<br>\n",
    "Average nDCG Score for Random Groups: 0.9686707021009922<br>\n",
    "Average nDCG Score for Similar Groups: 0.9520463148517391<br>\n",
    "Average nDCG Score for Dissimilar Groups: 0.9564283702571932<br>\n",
    "\n",
    "**Run 7:**<br>\n",
    "Average nDCG Score for Random Groups: 0.9381664614892197<br>\n",
    "Average nDCG Score for Similar Groups: 0.9594860391836496<br>\n",
    "Average nDCG Score for Dissimilar Groups: 0.9692787273230108<br>\n",
    "\n",
    "**Run 8:**<br>\n",
    "Average nDCG Score for Random Groups: 0.963005968896386<br>\n",
    "Average nDCG Score for Similar Groups: 0.9676345072777296<br>\n",
    "Average nDCG Score for Dissimilar Groups: 0.9683048947826257<br>\n",
    "\n",
    "**Run 9:**<br>\n",
    "Average nDCG Score for Random Groups: 0.8923131722693488<br>\n",
    "Average nDCG Score for Similar Groups: 0.9685548866031862<br>\n",
    "Average nDCG Score for Dissimilar Groups: 0.9062771010992706<br>\n",
    "\n",
    "**Run 10:**<br>\n",
    "Average nDCG Score for Random Groups: 0.9920169016499479<br>\n",
    "Average nDCG Score for Similar Groups: 0.9236176804798617<br>\n",
    "Average nDCG Score for Dissimilar Groups: 0.9777397586124356<br>\n",
    "\n",
    "So, it is clear that the nDCG values are not following a specific pattern, no group type is constantly dominant to another one. \n",
    "\n",
    "The mean values for the group types are listed below:<br>\n",
    "**Random Group:** 0.9414814676<br>\n",
    "**Similar Group:** 0.9203342717<br>\n",
    "**Dissimilar Group:** 0.9385240991<br>\n",
    "\n",
    "Any significant result is not observed concerning the research question, so, no, the internal similarity does not effect the performance of the recommendations."
   ]
  }
 ],
 "metadata": {
  "kernelspec": {
   "display_name": "Python 3 (ipykernel)",
   "language": "python",
   "name": "python3"
  },
  "language_info": {
   "codemirror_mode": {
    "name": "ipython",
    "version": 3
   },
   "file_extension": ".py",
   "mimetype": "text/x-python",
   "name": "python",
   "nbconvert_exporter": "python",
   "pygments_lexer": "ipython3",
   "version": "3.10.9"
  }
 },
 "nbformat": 4,
 "nbformat_minor": 1
}
